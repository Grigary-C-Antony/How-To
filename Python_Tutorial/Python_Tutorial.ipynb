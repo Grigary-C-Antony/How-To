{
  "nbformat": 4,
  "nbformat_minor": 0,
  "metadata": {
    "colab": {
      "name": "Python Tutorial.ipynb",
      "provenance": [],
      "authorship_tag": "ABX9TyOe09ZHB7+t+vmuM3H5bFJO",
      "include_colab_link": true
    },
    "kernelspec": {
      "name": "python3",
      "display_name": "Python 3"
    }
  },
  "cells": [
    {
      "cell_type": "markdown",
      "metadata": {
        "id": "view-in-github",
        "colab_type": "text"
      },
      "source": [
        "<a href=\"https://colab.research.google.com/github/Grigary-C-Antony/How-To/blob/master/Python_Tutorial/Python_Tutorial.ipynb\" target=\"_parent\"><img src=\"https://colab.research.google.com/assets/colab-badge.svg\" alt=\"Open In Colab\"/></a>"
      ]
    },
    {
      "cell_type": "markdown",
      "metadata": {
        "id": "xa2yV1620CO5",
        "colab_type": "text"
      },
      "source": [
        "#Input and Output\n",
        "Here we can see how to give and take input and output from **python**\n",
        "\n",
        "\n",
        "\n",
        "```\n",
        "\"\"\" This # and \"\"\" <=means commenting it will be used for reference as well as commenting wt is code it has no role in code while running\"\"\" \n",
        "```\n",
        "\n"
      ]
    },
    {
      "cell_type": "markdown",
      "metadata": {
        "id": "de00_Xj_1ssg",
        "colab_type": "text"
      },
      "source": [
        "## Input\n",
        "Input in python is given by the keyword\n",
        "### syntax\n",
        "\n",
        "```\n",
        "input(\"\")\n",
        "```\n",
        "\n"
      ]
    },
    {
      "cell_type": "code",
      "metadata": {
        "id": "j2mrKYbi0eFO",
        "colab_type": "code",
        "colab": {}
      },
      "source": [
        "A=input(\"please enter some thing here==>\")"
      ],
      "execution_count": null,
      "outputs": []
    },
    {
      "cell_type": "markdown",
      "metadata": {
        "id": "uS8kbrVf12NX",
        "colab_type": "text"
      },
      "source": [
        "## Output\n",
        "Output in python is taken out by the keyword \n",
        "### syntax\n",
        "```\n",
        "print(\" \")\n",
        "```"
      ]
    },
    {
      "cell_type": "code",
      "metadata": {
        "id": "gXp-mOYZ2Px1",
        "colab_type": "code",
        "colab": {}
      },
      "source": [
        "print(A)"
      ],
      "execution_count": null,
      "outputs": []
    },
    {
      "cell_type": "markdown",
      "metadata": {
        "id": "J2aRIW8m2UE9",
        "colab_type": "text"
      },
      "source": [
        "##Formated output\n",
        "\n",
        "\n",
        "also there is a small method called format to get formatted output like this\n",
        "### syntax\n",
        "```\n",
        "print(f\" {}\")\n",
        "```\n"
      ]
    },
    {
      "cell_type": "code",
      "metadata": {
        "id": "zmYJmJ4I2qFZ",
        "colab_type": "code",
        "colab": {}
      },
      "source": [
        "print(f\"here is the thing you typed ==>{A}\")"
      ],
      "execution_count": null,
      "outputs": []
    },
    {
      "cell_type": "markdown",
      "metadata": {
        "id": "6XYi1BUs2ylj",
        "colab_type": "text"
      },
      "source": [
        "###python only take strings so we have to convert that to our desire  keep this in mind"
      ]
    },
    {
      "cell_type": "markdown",
      "metadata": {
        "id": "exb4autmtWD7",
        "colab_type": "text"
      },
      "source": [
        "# Operators and Expression\n",
        "\n",
        "We Can't explain all here becoz of less time u can refer to those in this pdf about<br>\n",
        " [Operators and Expression](https://drive.google.com/file/d/13-_FRuWnXGMzIxv4-2id8LlZ5OSNiyBX/view?usp=sharing)"
      ]
    },
    {
      "cell_type": "code",
      "metadata": {
        "id": "BLIcAWKuvtvJ",
        "colab_type": "code",
        "colab": {}
      },
      "source": [
        "print(\"Operators and Expressions\")\n",
        "A=int(input(\"enter first n.o==>\"))\n",
        "B=int(input(\"enter second n.o==>\"))"
      ],
      "execution_count": null,
      "outputs": []
    },
    {
      "cell_type": "markdown",
      "metadata": {
        "id": "nIufJE64v2dG",
        "colab_type": "text"
      },
      "source": [
        "* Arithmetic Operators\n",
        "* Comparison (Relational) Operators\n",
        "* Assignment Operators\n",
        "* Logical Operators\n",
        "* Bitwise Operators\n",
        "* Membership Operators\n",
        "* Identity Operators"
      ]
    },
    {
      "cell_type": "markdown",
      "metadata": {
        "id": "TODqBv8swTCq",
        "colab_type": "text"
      },
      "source": [
        "##Arithmetic Operators"
      ]
    },
    {
      "cell_type": "code",
      "metadata": {
        "id": "7hammwzcwc9E",
        "colab_type": "code",
        "colab": {}
      },
      "source": [
        "print(A+B)\n",
        "print(A-B)\n",
        "print(A*B)\n",
        "print(A/B)\n",
        "print(A//B)\n",
        "print(A%B)\n",
        "print(A**B)"
      ],
      "execution_count": null,
      "outputs": []
    },
    {
      "cell_type": "markdown",
      "metadata": {
        "id": "basJLkkoxcBY",
        "colab_type": "text"
      },
      "source": [
        "##Assignment Operator"
      ]
    },
    {
      "cell_type": "code",
      "metadata": {
        "id": "aaAqwfcOytSQ",
        "colab_type": "code",
        "colab": {}
      },
      "source": [
        "A+=B #It adds right operand to the left operand and assign the result to left operand\n",
        "print(A)\n",
        "A-=B#It substract right operand to the left operand and assign the result to left operand\n",
        "print(A)\n",
        "A*=B#It multiply right operand to the left operand and assign the result to left operand\n",
        "print(A)\n",
        "A/=B#It divide right operand to the left operand and assign the result to left operand\n",
        "print(A)"
      ],
      "execution_count": null,
      "outputs": []
    },
    {
      "cell_type": "markdown",
      "metadata": {
        "id": "vAcgCU-tzt83",
        "colab_type": "text"
      },
      "source": [
        "Comparison and Logical operators can see after next section"
      ]
    },
    {
      "cell_type": "markdown",
      "metadata": {
        "id": "ktD655L1485i",
        "colab_type": "text"
      },
      "source": [
        "#Flow of Control\n",
        "\n",
        "\n",
        "1.   **if...elif...else**\n",
        "2.   **while loop**\n",
        "3.   **for loop**"
      ]
    },
    {
      "cell_type": "markdown",
      "metadata": {
        "id": "7IxYMW1v7srU",
        "colab_type": "text"
      },
      "source": [
        "#**if...elif...else**\n",
        "\n",
        "---\n",
        "![loop_architecture.jpg](data:image/jpeg;base64,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)\n",
        "\n",
        "\n",
        "###**if** this condition happens do this function **else if** this condition prevails do that function **else** do another function\n",
        "\n",
        "Intendation is very important in python"
      ]
    },
    {
      "cell_type": "markdown",
      "metadata": {
        "id": "rbjx84hG8TCN",
        "colab_type": "text"
      },
      "source": [
        "### syntax\n",
        "\n",
        "```\n",
        "if (condition):\n",
        "  function1\n",
        "elif (condition): # elif == else if\n",
        "  function2\n",
        "else:\n",
        "  function3\n",
        "```\n",
        "\n"
      ]
    },
    {
      "cell_type": "code",
      "metadata": {
        "id": "VE3bU-_VAJBQ",
        "colab_type": "code",
        "colab": {}
      },
      "source": [
        "A=int(input(\"enter first n.o==>\"))\n",
        "B=int(input(\"enter second n.o==>\"))"
      ],
      "execution_count": null,
      "outputs": []
    },
    {
      "cell_type": "code",
      "metadata": {
        "id": "DwTL8gWp8zaC",
        "colab_type": "code",
        "colab": {}
      },
      "source": [
        "if (A==B):\n",
        "  print(f\"{A} equal to {B}\")\n",
        "elif(A<B):\n",
        "  print(f\"{A} less than {B}\")\n",
        "elif(A>B):\n",
        "  print(f\"{A} greater than {B}\")"
      ],
      "execution_count": null,
      "outputs": []
    },
    {
      "cell_type": "code",
      "metadata": {
        "id": "QkaDktBUBfcF",
        "colab_type": "code",
        "colab": {}
      },
      "source": [
        "if(A<=B):\n",
        "  print(f\"{A} less than or equal to {B}\")\n",
        "elif(A>=B):\n",
        "  print(f\"{A} greater than equal to {B}\")"
      ],
      "execution_count": null,
      "outputs": []
    },
    {
      "cell_type": "code",
      "metadata": {
        "id": "GtDY8OWhBuAX",
        "colab_type": "code",
        "colab": {}
      },
      "source": [
        "if(A!=B):\n",
        "  print(f\"{A} not equal to {B}\")\n",
        "else:\n",
        "  print(f\"{A} is equal to {B}\")"
      ],
      "execution_count": null,
      "outputs": []
    },
    {
      "cell_type": "markdown",
      "metadata": {
        "id": "d0EB_ai3EDEq",
        "colab_type": "text"
      },
      "source": [
        "#While loop\n",
        "###Repeats a statement or group of statements while a given condition is TRUE. It tests the condition before executing the loop body.\n",
        "\n",
        "![python_while_loop.jpg](data:image/jpeg;base64,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)\n",
        "##syntax\n",
        "\n",
        "\n",
        "```\n",
        "while(True):\n",
        "  function\n",
        "```\n",
        "\n"
      ]
    },
    {
      "cell_type": "code",
      "metadata": {
        "id": "cbDg1VQCEo4d",
        "colab_type": "code",
        "colab": {}
      },
      "source": [
        "A=10\n",
        "while(A>0):\n",
        "  print(A)\n",
        "  A-=1"
      ],
      "execution_count": null,
      "outputs": []
    },
    {
      "cell_type": "code",
      "metadata": {
        "id": "3RZ9FH16FkYq",
        "colab_type": "code",
        "colab": {}
      },
      "source": [
        "A=5\n",
        "B=4\n",
        "C=3"
      ],
      "execution_count": 20,
      "outputs": []
    },
    {
      "cell_type": "code",
      "metadata": {
        "id": "709USDvDFpGb",
        "colab_type": "code",
        "colab": {}
      },
      "source": [
        "while(A>B and B>C):\n",
        "  print(\"hello\")\n",
        "  break"
      ],
      "execution_count": null,
      "outputs": []
    },
    {
      "cell_type": "code",
      "metadata": {
        "id": "yY-L-SWNGr-5",
        "colab_type": "code",
        "colab": {}
      },
      "source": [
        "while(A>B or B<C):\n",
        "  print(\"hello\")\n",
        "  break"
      ],
      "execution_count": null,
      "outputs": []
    },
    {
      "cell_type": "markdown",
      "metadata": {
        "id": "j_TsxXWDIPnw",
        "colab_type": "text"
      },
      "source": [
        "#For Loop\n",
        "---\n",
        "\n",
        "###It has the ability to iterate over the items of any sequence, such as a list or a string\n",
        "![python_for_loop.jpg](data:image/jpeg;base64,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)\n",
        "##syntax\n",
        "\n",
        "\n",
        "```\n",
        "for iterating_var in sequence:\n",
        "   function\n",
        "```\n",
        "\n"
      ]
    },
    {
      "cell_type": "code",
      "metadata": {
        "id": "b1Kad1_JQKex",
        "colab_type": "code",
        "colab": {}
      },
      "source": [
        "for letters in \"python\":\n",
        "  print(letters)"
      ],
      "execution_count": null,
      "outputs": []
    },
    {
      "cell_type": "code",
      "metadata": {
        "id": "_XAlKQCRQc-j",
        "colab_type": "code",
        "colab": {}
      },
      "source": [
        "A=input(\"enter your name==>\")\n",
        "for i in A:#here i is variable\n",
        "  print(i)"
      ],
      "execution_count": null,
      "outputs": []
    },
    {
      "cell_type": "code",
      "metadata": {
        "id": "e25-TkmGQ3h_",
        "colab_type": "code",
        "colab": {}
      },
      "source": [
        "for i in range(len(A)):#len means length of\n",
        "  print(i)"
      ],
      "execution_count": null,
      "outputs": []
    },
    {
      "cell_type": "code",
      "metadata": {
        "id": "ETmdlkqlRBd4",
        "colab_type": "code",
        "colab": {}
      },
      "source": [
        "for i in range(0,20,2):\n",
        "  print(i)"
      ],
      "execution_count": null,
      "outputs": []
    },
    {
      "cell_type": "markdown",
      "metadata": {
        "id": "AWyMd9CfRchu",
        "colab_type": "text"
      },
      "source": [
        "#Lists (arrays)\n",
        "---\n",
        "The most basic data structure in Python is the sequence. Each element of a sequence is assigned a number - its position or index. The first index is zero, the second index is one, and so forth.\n",
        "\n",
        "\n",
        "```\n",
        "list1 = ['physics', 'chemistry', 1997, 2000]\n",
        "list2 = [1, 2, 3, 4, 5 ]\n",
        "list3 = [\"a\", \"b\", \"c\", \"d\"]\n",
        "```\n",
        "\n"
      ]
    },
    {
      "cell_type": "code",
      "metadata": {
        "id": "0ursHlq8ezMj",
        "colab_type": "code",
        "colab": {}
      },
      "source": [
        "list1 = ['physics', 'chemistry', 1997, 2000]\n",
        "list2 = [1, 2, 3, 4, 5 ]\n",
        "list3 = [\"a\", \"b\", \"c\", \"d\"]"
      ],
      "execution_count": 29,
      "outputs": []
    },
    {
      "cell_type": "code",
      "metadata": {
        "id": "Ot59ZmTMe2IY",
        "colab_type": "code",
        "colab": {}
      },
      "source": [
        "print(list1,list2,list3)"
      ],
      "execution_count": null,
      "outputs": []
    },
    {
      "cell_type": "code",
      "metadata": {
        "id": "_6SWbfaxfH7H",
        "colab_type": "code",
        "colab": {}
      },
      "source": [
        "final_list=list1#u can change to any list from above\n",
        "for i in final_list:\n",
        "  print(i)"
      ],
      "execution_count": null,
      "outputs": []
    },
    {
      "cell_type": "markdown",
      "metadata": {
        "id": "F2cIC6-yjs-j",
        "colab_type": "text"
      },
      "source": [
        "###list with numbers"
      ]
    },
    {
      "cell_type": "code",
      "metadata": {
        "id": "pklPCxs5ghc-",
        "colab_type": "code",
        "colab": {}
      },
      "source": [
        "A=[1,2,5,7,8,4,3,9,11,6]\n",
        "print(min(A))\n",
        "print(max(A))\n",
        "\n",
        "print(len(A))\n",
        "\n",
        "print(A[0],A[1])\n",
        "print(A[-1],A[-2])\n",
        "\n",
        "print(sum(A))\n",
        "\n",
        "del A[1]\n",
        "print(A)\n",
        "\n",
        "A.append(44)\n",
        "print(A)\n",
        "\n",
        "A.pop()\n",
        "print(A)\n",
        "\n",
        "A.insert(2,88)\n",
        "print(A)\n",
        "\n",
        "A.sort()\n",
        "print(A)\n"
      ],
      "execution_count": null,
      "outputs": []
    },
    {
      "cell_type": "markdown",
      "metadata": {
        "id": "U50lNDLGjjyI",
        "colab_type": "text"
      },
      "source": [
        "###list with strings"
      ]
    },
    {
      "cell_type": "code",
      "metadata": {
        "id": "4OaB5o3iji5q",
        "colab_type": "code",
        "colab": {}
      },
      "source": [
        "A=[\"a\", \"b\", \"c\", \"d\"]\n",
        "print(min(A))\n",
        "print(max(A))\n",
        "\n",
        "print(len(A))\n",
        "\n",
        "print(A[0],A[1])\n",
        "print(A[-1],A[-2])\n",
        "\n",
        "del A[1]\n",
        "print(A)\n",
        "\n",
        "print(['Hi!'] * 4)\n",
        "\n",
        "A.append(\"g\")\n",
        "print(A)\n",
        "\n",
        "A.pop()\n",
        "print(A)\n",
        "\n",
        "A.insert(2,\"y\")\n",
        "print(A)\n",
        "\n",
        "A.sort()\n",
        "print(A)"
      ],
      "execution_count": null,
      "outputs": []
    },
    {
      "cell_type": "markdown",
      "metadata": {
        "id": "Js1zdZTplvlB",
        "colab_type": "text"
      },
      "source": [
        "Also there exist tuple,set,dictionary becoz of lack of time we skip those "
      ]
    },
    {
      "cell_type": "markdown",
      "metadata": {
        "id": "COq7sIJXmBwB",
        "colab_type": "text"
      },
      "source": [
        "#LIBRARY (PACKAGES)\n",
        "\n",
        "\n",
        "---\n",
        "we are going to see only\n",
        "\n",
        "\n",
        "*   Time\n",
        "*   Random\n",
        "*   youtube-dl(external package)\n",
        "\n",
        "###To use a package in our code we need to call that package to our code\n",
        "###syntax\n",
        "```\n",
        "import time\n",
        "import random\n",
        "import youtube-dl\n",
        "```\n"
      ]
    },
    {
      "cell_type": "markdown",
      "metadata": {
        "id": "bcWLi2SJnnT9",
        "colab_type": "text"
      },
      "source": [
        "##Time"
      ]
    },
    {
      "cell_type": "code",
      "metadata": {
        "id": "e7hUCglBm-y8",
        "colab_type": "code",
        "colab": {}
      },
      "source": [
        "import time\n",
        "A=0\n",
        "while (A<10):\n",
        "  print(A)\n",
        "  A+=1\n",
        "  time.sleep(2)"
      ],
      "execution_count": null,
      "outputs": []
    },
    {
      "cell_type": "markdown",
      "metadata": {
        "id": "7y69H4Odpb3c",
        "colab_type": "text"
      },
      "source": [
        "##Random"
      ]
    },
    {
      "cell_type": "code",
      "metadata": {
        "id": "x_cVmwgOoQJv",
        "colab_type": "code",
        "colab": {}
      },
      "source": [
        "import random\n",
        "for i in range(0,10):\n",
        "  A=random.randint(0,10)\n",
        "  print(A)\n",
        "\n",
        "print(\"**********************************************************************\")\n",
        "\n",
        "B=[1,2,5,4,6,8,5,5,8,7,4,5,23,9,1,5]\n",
        "for i in range(10):\n",
        "  print(random.choice(B))"
      ],
      "execution_count": null,
      "outputs": []
    },
    {
      "cell_type": "markdown",
      "metadata": {
        "id": "nqiZMvrOpgqF",
        "colab_type": "text"
      },
      "source": [
        "##youtube-dl\n",
        "###Its an external lib so we need to install the lib to our directory first, then only we can use those\n",
        "let's see how to do so"
      ]
    },
    {
      "cell_type": "code",
      "metadata": {
        "id": "PvcRMHfhpgJC",
        "colab_type": "code",
        "colab": {}
      },
      "source": [
        "!pip install youtube-dl\n",
        "!youtube-dl https://youtu.be/EmlB8jVPAtI"
      ],
      "execution_count": null,
      "outputs": []
    }
  ]
}