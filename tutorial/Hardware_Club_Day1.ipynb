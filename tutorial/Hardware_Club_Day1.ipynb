{
  "nbformat": 4,
  "nbformat_minor": 0,
  "metadata": {
    "colab": {
      "name": "Hardware Club Day1.ipynb",
      "provenance": [],
      "collapsed_sections": [],
      "include_colab_link": true
    },
    "kernelspec": {
      "name": "python3",
      "display_name": "Python 3"
    }
  },
  "cells": [
    {
      "cell_type": "markdown",
      "metadata": {
        "id": "view-in-github",
        "colab_type": "text"
      },
      "source": [
        "<a href=\"https://colab.research.google.com/github/Grigary-C-Antony/How-To/blob/master/tutorial/Hardware_Club_Day1.ipynb\" target=\"_parent\"><img src=\"https://colab.research.google.com/assets/colab-badge.svg\" alt=\"Open In Colab\"/></a>"
      ]
    },
    {
      "cell_type": "markdown",
      "metadata": {
        "id": "0THv0AFYayjF",
        "colab_type": "text"
      },
      "source": [
        "#Input and Output\n",
        "Here we can see how to give and take input and output from **python**\n",
        "\n",
        "\n",
        "\n",
        "```\n",
        "\"\"\" This # and \"\"\" <=means commenting it will be used for reference as well as commenting wt is code it has no role in code while running\"\"\" \n",
        "```\n"
      ]
    },
    {
      "cell_type": "markdown",
      "metadata": {
        "id": "FMqVvcvYcun4",
        "colab_type": "text"
      },
      "source": [
        "## Input\n",
        "Input in python is given by the keyword\n",
        "### syntax\n",
        "\n",
        "```\n",
        "input(\"\")\n",
        "```\n",
        "\n"
      ]
    },
    {
      "cell_type": "code",
      "metadata": {
        "id": "msZQsU7HctAP",
        "colab_type": "code",
        "colab": {
          "base_uri": "https://localhost:8080/",
          "height": 34
        },
        "outputId": "3a736346-3117-4c94-844b-9b32f2e26235"
      },
      "source": [
        "A=input(\"please enter some thing here==>\")"
      ],
      "execution_count": null,
      "outputs": [
        {
          "output_type": "stream",
          "text": [
            "please enter some thing here==>Fab\n"
          ],
          "name": "stdout"
        }
      ]
    },
    {
      "cell_type": "markdown",
      "metadata": {
        "id": "QSpOJKSHc3hB",
        "colab_type": "text"
      },
      "source": [
        "## Output\n",
        "Output in python is taken out by the keyword \n",
        "### syntax\n",
        "```\n",
        "print(\" \")\n",
        "```"
      ]
    },
    {
      "cell_type": "code",
      "metadata": {
        "id": "7esYveM7Zx4L",
        "colab_type": "code",
        "colab": {}
      },
      "source": [
        "print(A)"
      ],
      "execution_count": null,
      "outputs": []
    },
    {
      "cell_type": "code",
      "metadata": {
        "id": "BYvN_cdXkVLz",
        "colab_type": "code",
        "colab": {}
      },
      "source": [
        "print((A+\" \")*5)"
      ],
      "execution_count": null,
      "outputs": []
    },
    {
      "cell_type": "markdown",
      "metadata": {
        "id": "PeyF-HUYcLji",
        "colab_type": "text"
      },
      "source": [
        "##Formated output\n",
        "\n",
        "\n",
        "also there is a small method called format to get formatted output like this\n",
        "### syntax\n",
        "```\n",
        "print(f\" {}\")\n",
        "```\n"
      ]
    },
    {
      "cell_type": "code",
      "metadata": {
        "id": "pP6a9LXTdOSA",
        "colab_type": "code",
        "colab": {}
      },
      "source": [
        "print(f\"here is the thing you typed ==>{A}\")"
      ],
      "execution_count": null,
      "outputs": []
    },
    {
      "cell_type": "markdown",
      "metadata": {
        "id": "H5duZuNhd9t_",
        "colab_type": "text"
      },
      "source": [
        "#Two datatypes cannot be added together"
      ]
    },
    {
      "cell_type": "code",
      "metadata": {
        "id": "Zd8WcfBvfjtY",
        "colab_type": "code",
        "colab": {}
      },
      "source": [
        "D = int(input(\"Type your number\"))"
      ],
      "execution_count": null,
      "outputs": []
    },
    {
      "cell_type": "code",
      "metadata": {
        "id": "fvmH7Rf0d7Ci",
        "colab_type": "code",
        "colab": {}
      },
      "source": [
        "print(\"Your number is\" + D)"
      ],
      "execution_count": null,
      "outputs": []
    },
    {
      "cell_type": "code",
      "metadata": {
        "id": "XncWLrLtfTlr",
        "colab_type": "code",
        "colab": {}
      },
      "source": [
        "print(f\"Your number is {D}\")"
      ],
      "execution_count": null,
      "outputs": []
    },
    {
      "cell_type": "markdown",
      "metadata": {
        "id": "8XkJz1iagyca",
        "colab_type": "text"
      },
      "source": [
        "##Examples"
      ]
    },
    {
      "cell_type": "markdown",
      "metadata": {
        "id": "nBTQEnEshpDF",
        "colab_type": "text"
      },
      "source": [
        "1)Sum of two numbers"
      ]
    },
    {
      "cell_type": "code",
      "metadata": {
        "id": "62ktbdAehNwY",
        "colab_type": "code",
        "colab": {}
      },
      "source": [
        "a = float(input())\n",
        "b = float(input())\n",
        "sum = a+b \n",
        "print(\"Sum is :\" , sum)"
      ],
      "execution_count": null,
      "outputs": []
    },
    {
      "cell_type": "markdown",
      "metadata": {
        "id": "mKKevICUifiV",
        "colab_type": "text"
      },
      "source": [
        "2)Square root of a number"
      ]
    },
    {
      "cell_type": "code",
      "metadata": {
        "id": "gSHPYe2jhnGH",
        "colab_type": "code",
        "colab": {}
      },
      "source": [
        "num_sqrt = sum ** 0.5\n",
        "print(\"Square root of the number is:\",num_sqrt)"
      ],
      "execution_count": null,
      "outputs": []
    },
    {
      "cell_type": "markdown",
      "metadata": {
        "id": "eMU6xRxLlAe5",
        "colab_type": "text"
      },
      "source": [
        "3)Different ways of printing"
      ]
    },
    {
      "cell_type": "code",
      "metadata": {
        "id": "U4KmFwitiypi",
        "colab_type": "code",
        "colab": {}
      },
      "source": [
        "print(A, 30, 82.2)\n",
        "print(A, 30, 82.2, sep=',')\n",
        "print(A, 30, 82.2, sep=',', end='!!\\n')\n",
        "print(A,'Python Bootcamp', sep=' @ ') "
      ],
      "execution_count": null,
      "outputs": []
    },
    {
      "cell_type": "markdown",
      "metadata": {
        "id": "o489v40KmeSI",
        "colab_type": "text"
      },
      "source": [
        "4)To print the datatype"
      ]
    },
    {
      "cell_type": "code",
      "metadata": {
        "id": "h9QeVxv2lzsW",
        "colab_type": "code",
        "colab": {}
      },
      "source": [
        "print (\"type of number\", type(sum))"
      ],
      "execution_count": null,
      "outputs": []
    },
    {
      "cell_type": "markdown",
      "metadata": {
        "id": "i3jrMG5LnTW8",
        "colab_type": "text"
      },
      "source": [
        "5)Getting two inputs at a time"
      ]
    },
    {
      "cell_type": "code",
      "metadata": {
        "id": "t6mUvP4ZnSf5",
        "colab_type": "code",
        "colab": {}
      },
      "source": [
        "x, y = input(\"Enter a two value: \").split() \n",
        "print(x,y)\n",
        "print(y,x)"
      ],
      "execution_count": null,
      "outputs": []
    }
  ]
}