{
  "nbformat": 4,
  "nbformat_minor": 0,
  "metadata": {
    "colab": {
      "name": "CODE TO COPY GOOGLE DRIVE .ipynb",
      "provenance": [],
      "authorship_tag": "ABX9TyOpPG6treQAtjdRGAL87yId",
      "include_colab_link": true
    },
    "kernelspec": {
      "name": "python3",
      "display_name": "Python 3"
    }
  },
  "cells": [
    {
      "cell_type": "markdown",
      "metadata": {
        "id": "view-in-github",
        "colab_type": "text"
      },
      "source": [
        "<a href=\"https://colab.research.google.com/github/Grigary-C-Antony/How-To/blob/master/How%20to%20copy%20a%20Shared%20Folder%20into%20Own%20Google%20Drive%3F/CODE_TO_COPY_GOOGLE_DRIVE_.ipynb\" target=\"_parent\"><img src=\"https://colab.research.google.com/assets/colab-badge.svg\" alt=\"Open In Colab\"/></a>"
      ]
    },
    {
      "cell_type": "markdown",
      "metadata": {
        "id": "669qPdBgxmMn",
        "colab_type": "text"
      },
      "source": [
        "#Copy your Shared Folder to your Drive#\n",
        "###Here i had given a code for copying your needed sharedfolder to your drive for that there is some steps to do in your drive to work this code correctly##\n",
        "step 1 => Go to the shared folder that you need to copy\n",
        "\n",
        "step 2 => Right click on the folder and copy a shortcut to your drive \n",
        "\n",
        "step 3 => Then copy its name by clicking on to the rename option (if there space exist in the name rename by deleting space to \"_\")"
      ]
    },
    {
      "cell_type": "code",
      "metadata": {
        "id": "z5vhR5a4gvNu",
        "colab_type": "code",
        "colab": {}
      },
      "source": [
        "'''step 4 => run this'''\n",
        "from google.colab import drive\n",
        "drive.mount('/gdrive')"
      ],
      "execution_count": 0,
      "outputs": []
    },
    {
      "cell_type": "markdown",
      "metadata": {
        "id": "8ndQJ7Eewmei",
        "colab_type": "text"
      },
      "source": [
        "👆👆👆Here you will get a link address click on it then the link will direct you to give permission to access the drive , give access to it then u will get a encrypted code in it try to copy it from there itself and paste on the box shown here inthe output of this code then press enter 👆👆👆"
      ]
    },
    {
      "cell_type": "code",
      "metadata": {
        "id": "Bq6tyNqutUT8",
        "colab_type": "code",
        "colab": {}
      },
      "source": [
        "'''step 5 => run this'''\n",
        "from google.colab import drive\n",
        "drive.mount('/content/drive')"
      ],
      "execution_count": 0,
      "outputs": []
    },
    {
      "cell_type": "markdown",
      "metadata": {
        "id": "7XjcaMB_tl9f",
        "colab_type": "text"
      },
      "source": [
        "👆👆👆first we need to mont the drive to colab its done by these code👆👆👆"
      ]
    },
    {
      "cell_type": "code",
      "metadata": {
        "id": "ZCsBNGMpgzlQ",
        "colab_type": "code",
        "colab": {}
      },
      "source": [
        "'''step 6 => run this'''\n",
        "%cd /gdrive/My\\ Drive/(here type the name of the file)"
      ],
      "execution_count": 0,
      "outputs": []
    },
    {
      "cell_type": "markdown",
      "metadata": {
        "id": "qELjQBBOuwHd",
        "colab_type": "text"
      },
      "source": [
        "👆👆👆Here u need to delete the \"(here type the name of the file)\" and add the name of the shortcut u had created in your own drive (try to copy the name by clicking on rename on it)👆👆👆\n"
      ]
    },
    {
      "cell_type": "code",
      "metadata": {
        "id": "Fb1eYfXng5r3",
        "colab_type": "code",
        "colab": {}
      },
      "source": [
        "'''step 7 => run this'''\n",
        "!cp -r '(copy above)/.' '/gdrive/My Drive/(destination)'"
      ],
      "execution_count": 0,
      "outputs": []
    },
    {
      "cell_type": "markdown",
      "metadata": {
        "id": "hZhc4EwWvhpX",
        "colab_type": "text"
      },
      "source": [
        "👆👆👆now you will get an directory path as the output from the above code try to paste it on the \"(copy above)\" and replace the \"(destination)\" with your target folder in your drive then run this code👆👆👆"
      ]
    },
    {
      "cell_type": "markdown",
      "metadata": {
        "id": "WVLoh_-W8lk1",
        "colab_type": "text"
      },
      "source": [
        "#if that was cool then relax for a while you will get the result in your drive"
      ]
    }
  ]
}